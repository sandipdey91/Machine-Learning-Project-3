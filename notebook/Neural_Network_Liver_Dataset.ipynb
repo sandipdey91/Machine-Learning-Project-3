{
 "cells": [
  {
   "cell_type": "markdown",
   "metadata": {
    "_uuid": "cfb9e0aec7e1e00fd3a5c7335109d7d50eeee66a"
   },
   "source": [
    "# Predicting Liver disease with a 2 layer neural network coded from scratch in Python."
   ]
  },
  {
   "cell_type": "code",
   "execution_count": 1,
   "metadata": {
    "_uuid": "9829662ef039d6732fca5d16404fd2c1d90fc260"
   },
   "outputs": [],
   "source": [
    "import numpy as np\n",
    "import matplotlib.pyplot as plt\n",
    "import pandas as pd \n",
    "from sklearn import preprocessing\n",
    "from sklearn.preprocessing import MinMaxScaler\n",
    "from sklearn import metrics\n",
    "from sklearn.metrics import confusion_matrix\n",
    "import itertools\n",
    "\n",
    "np.set_printoptions(threshold=np.inf)\n",
    "\n",
    "%matplotlib inline\n",
    "%load_ext autoreload\n",
    "%autoreload 2"
   ]
  },
  {
   "cell_type": "markdown",
   "metadata": {},
   "source": [
    "##### This custom confusion matrix function comes from this public Kaggle created by JP"
   ]
  },
  {
   "cell_type": "code",
   "execution_count": 2,
   "metadata": {
    "_uuid": "edd6966078337bd8fe38fc2e2287fc02b60d86e8"
   },
   "outputs": [],
   "source": [
    "def plotCf(a,b,t):\n",
    "    cf =confusion_matrix(a,b)\n",
    "    plt.imshow(cf,cmap=plt.cm.Blues,interpolation='nearest')\n",
    "    plt.colorbar()\n",
    "    plt.title(t)\n",
    "    plt.xlabel('Predicted')\n",
    "    plt.ylabel('Actual')\n",
    "    tick_marks = np.arange(len(set(a))) # length of classes\n",
    "    class_labels = ['0','1']\n",
    "    plt.xticks(tick_marks,class_labels)\n",
    "    plt.yticks(tick_marks,class_labels)\n",
    "    thresh = cf.max() / 2.\n",
    "    for i,j in itertools.product(range(cf.shape[0]),range(cf.shape[1])):\n",
    "        plt.text(j,i,format(cf[i,j],'d'),horizontalalignment='center',color='white' if cf[i,j] >thresh else 'black')\n",
    "    plt.show();"
   ]
  },
  {
   "cell_type": "markdown",
   "metadata": {
    "_uuid": "c82c6e18eb8a7995e8753c4c34d431c37aeb6152"
   },
   "source": [
    "# **The 2 layer neural network class**\n",
    "\n",
    "A 2 layer neural network class with gradient descent in less than 100 lines of code\n",
    "\n",
    "- X: Holds our input layer, the data we give to the network. X is a matrix that has as many rows as features has our data and as many columns as samples we have available to train the network.\n",
    "- Y: Holds our desired output, which we will use to train the network. \n",
    "- Yh: Holds the output that our network produces. It should have the same dimensions than Y, our desired target values. We initialize it to zero.\n",
    "- L: It holds the number of layers of our network, 2.\n",
    "- dims: The number of neurons or units in each of our layers. Our input will have 9 useful features. Next, the first layer of the neural network will have 15 neurons, and our second and final layer will have 1 (the output of the network).\n",
    "- param: A Python dictionary that will hold the W and b parameters of each of the layers of the network.\n",
    "- ch: a cache variable, a python dictionary that will hold some intermediate calculations that we will need during the backward pass of the gradient descent algorithm.\n",
    "\n",
    "Finally, we declare three more parameters.\n",
    "- lr: Our learning rate. This sets the speed at which the network will learn.\n",
    "- sam: The number of training samples we have.\n",
    "- loss: An array where we will store the loss value of the network every x iterations. The loss value expresses the difference between the predicted output of our network and the target one.\n",
    "\n",
    "We also have\n",
    "\n",
    "- W1: The number of rows is the number of hidden units of that layer, dims[1], and the number of columns is the number of features/rows of the previous layer (in this case X, our input data), dims[0].\n",
    "- b1: Same number of rows as W1 and a single column.\n",
    "- W2: The number of rows is the number of hidden units of that layer, dims[2], and the number of columns is again the number of rows of the input to that layer, dims[1].\n",
    "- b2: Same number of rows as W2 and a single column."
   ]
  },
  {
   "cell_type": "code",
   "execution_count": 1,
   "metadata": {
    "_uuid": "66c9cdd8523ba2f23f1f6cf95de6e9f999bdc7f4"
   },
   "outputs": [],
   "source": [
    "\n",
    "# The Relu and Sigmoid functions declare the activation computations\n",
    "\n",
    "def Sigmoid(Z):\n",
    "    return 1/(1+np.exp(-Z))\n",
    "\n",
    "def Relu(Z):\n",
    "    return np.maximum(0,Z)\n",
    "\n",
    "# We also declare dRelu and dSigmoid, the derivatives of the Relu and Sigmoid functions, \n",
    "# which are needed when we compute the back-propagation algorithm\n",
    "\n",
    "def dRelu2(dZ, Z):    \n",
    "    dZ[Z <= 0] = 0    \n",
    "    return dZ\n",
    "\n",
    "def dRelu(x):\n",
    "    x[x<=0] = 0\n",
    "    x[x>0] = 1\n",
    "    return x\n",
    "\n",
    "def dSigmoid(Z):\n",
    "    s = 1/(1+np.exp(-Z))\n",
    "    dZ = s * (1-s)\n",
    "    return dZ\n",
    "\n",
    "class neural_network:\n",
    "    def __init__(self, x, y):\n",
    "        self.debug = 0;\n",
    "        self.X=x\n",
    "        self.Y=y\n",
    "        self.Yh=np.zeros((1,self.Y.shape[1])) \n",
    "        self.L=2\n",
    "        self.dims = [9, 15, 1] \n",
    "        self.param = {}\n",
    "        self.ch = {}\n",
    "        self.grad = {}\n",
    "        self.loss = []\n",
    "        self.lr=0.003\n",
    "        self.sam = self.Y.shape[1]\n",
    "        self.threshold=0.5\n",
    "        \n",
    "    def nInit(self):    \n",
    "        np.random.seed(1)\n",
    "        self.param['W1'] = np.random.randn(self.dims[1], self.dims[0]) / np.sqrt(self.dims[0]) \n",
    "        self.param['b1'] = np.zeros((self.dims[1], 1))        \n",
    "        self.param['W2'] = np.random.randn(self.dims[2], self.dims[1]) / np.sqrt(self.dims[1]) \n",
    "        self.param['b2'] = np.zeros((self.dims[2], 1))                \n",
    "        return \n",
    "   \n",
    "    \n",
    "    def forward(self):   \n",
    "        \n",
    "# We multiply the weights of the first layer by the input data and add the first bias matrix, b1, to produce Z1 \n",
    "# We then apply the Relu function to Z1 to produce A1\n",
    "       \n",
    "        Z1 = self.param['W1'].dot(self.X) + self.param['b1'] \n",
    "        A1 = Relu(Z1)\n",
    "        self.ch['Z1'],self.ch['A1']=Z1,A1\n",
    "\n",
    "# Next, we multiply the weight matrix of the second layer by its input, A1 (the soutput of the first layer, which is the input of the second layer), \n",
    "# and we add the second bias matrix, b2, in order to produce Z2\n",
    "# We then apply the Sigmoid function to Z2 to produce A2, which is in fact Yh, the output of the network \n",
    "        \n",
    "        Z2 = self.param['W2'].dot(A1) + self.param['b2']  \n",
    "        A2 = Sigmoid(Z2)\n",
    "        self.ch['Z2'],self.ch['A2']=Z2,A2\n",
    "\n",
    "        self.Yh=A2\n",
    "        loss=self.nloss(A2)\n",
    "        return self.Yh, loss\n",
    "\n",
    "# We use Cross-Entropy Loss Function\n",
    "\n",
    "    def nloss(self,Yh):\n",
    "        loss = (1./self.sam) * (-np.dot(self.Y,np.log(Yh).T) - np.dot(1-self.Y, np.log(1-Yh).T))    \n",
    "        return loss\n",
    "\n",
    "# Back-propagation makes use of the chain rule to find out to what degree changes to the different parameters of our network influence its final loss value    \n",
    "    def backward(self):\n",
    "        dLoss_Yh = - (np.divide(self.Y, self.Yh ) - np.divide(1 - self.Y, 1 - self.Yh))    \n",
    "        \n",
    "        dLoss_Z2 = dLoss_Yh * dSigmoid(self.ch['Z2'])    \n",
    "        dLoss_A1 = np.dot(self.param[\"W2\"].T,dLoss_Z2)\n",
    "        dLoss_W2 = 1./self.ch['A1'].shape[1] * np.dot(dLoss_Z2,self.ch['A1'].T)\n",
    "        dLoss_b2 = 1./self.ch['A1'].shape[1] * np.dot(dLoss_Z2, np.ones([dLoss_Z2.shape[1],1])) \n",
    "                            \n",
    "        dLoss_Z1 = dLoss_A1 * dRelu(self.ch['Z1'])        \n",
    "        dLoss_A0 = np.dot(self.param[\"W1\"].T,dLoss_Z1)\n",
    "        dLoss_W1 = 1./self.X.shape[1] * np.dot(dLoss_Z1,self.X.T)\n",
    "        dLoss_b1 = 1./self.X.shape[1] * np.dot(dLoss_Z1, np.ones([dLoss_Z1.shape[1],1]))  \n",
    "\n",
    "# learning rate(lr) is a parameter that allows us to set how fast the network learns        \n",
    "        self.param[\"W1\"] = self.param[\"W1\"] - self.lr * dLoss_W1\n",
    "        self.param[\"b1\"] = self.param[\"b1\"] - self.lr * dLoss_b1\n",
    "        self.param[\"W2\"] = self.param[\"W2\"] - self.lr * dLoss_W2\n",
    "        self.param[\"b2\"] = self.param[\"b2\"] - self.lr * dLoss_b2\n",
    "        \n",
    "        return\n",
    "\n",
    "\n",
    "    def pred(self,x, y):  \n",
    "        self.X=x\n",
    "        self.Y=y\n",
    "        comp = np.zeros((1,x.shape[1]))\n",
    "        pred, loss= self.forward()    \n",
    "    \n",
    "        for i in range(0, pred.shape[1]):\n",
    "            if pred[0,i] > self.threshold: \n",
    "                comp[0,i] = 1\n",
    "            else: \n",
    "                comp[0,i] = 0\n",
    "    \n",
    "        print(\"Acc: \" + str(np.sum((comp == y)/x.shape[1])))\n",
    "        \n",
    "        return comp\n",
    "    \n",
    "    def train(self,X, Y, iter = 3000):\n",
    "        np.random.seed(1)                         \n",
    "    \n",
    "        self.nInit()\n",
    "    \n",
    "        for i in range(0, iter):\n",
    "            Yh, loss=self.forward()\n",
    "            self.backward()\n",
    "        \n",
    "            if i % 500 == 0:\n",
    "                print (\"Cost after iteration %i: %f\" %(i, loss))\n",
    "                self.loss.append(loss)\n",
    "\n",
    "        plt.plot(np.squeeze(self.loss))\n",
    "        plt.ylabel('Loss')\n",
    "        plt.xlabel('Iter')\n",
    "        plt.title(\"Lr =\" + str(self.lr))\n",
    "        plt.show()\n",
    "    \n",
    "        return "
   ]
  },
  {
   "cell_type": "markdown",
   "metadata": {
    "_uuid": "56346d9bba9c5c4121aa1549252826864a4ce32e"
   },
   "source": [
    "### Prepare the data through Feature Engineering"
   ]
  },
  {
   "cell_type": "code",
   "execution_count": 4,
   "metadata": {
    "_uuid": "ee89b668b46defd5105ab3f2a3cfce3f94a32c3d"
   },
   "outputs": [
    {
     "data": {
      "text/plain": [
       "(583, 11)"
      ]
     },
     "execution_count": 4,
     "metadata": {},
     "output_type": "execute_result"
    }
   ],
   "source": [
    "df = pd.read_csv('indian_liver_patient.csv')\n",
    "df['Gender'].replace(['Female'], 1,inplace=True)\n",
    "df['Gender'].replace(['Male'], 2,inplace=True)\n",
    "df['Dataset'].replace(2, 0,inplace=True)\n",
    "df = df.astype(float)\n",
    "\n",
    "scaled_df=df\n",
    "names = df.columns[0:10]\n",
    "scaler = MinMaxScaler() \n",
    "scaled_df = scaler.fit_transform(df.iloc[:,0:10]) \n",
    "scaled_df = pd.DataFrame(scaled_df, columns=names)\n",
    "\n",
    "df.shape"
   ]
  },
  {
   "cell_type": "code",
   "execution_count": 5,
   "metadata": {
    "_uuid": "fa1f16313a9cc5dce0564a1268b64984a8c7ae2b"
   },
   "outputs": [
    {
     "name": "stdout",
     "output_type": "stream",
     "text": [
      "(583, 11) (10, 400) (1, 400) (10, 182) (1, 182)\n"
     ]
    }
   ],
   "source": [
    "x=scaled_df.iloc[0:400,0:10].values.transpose()\n",
    "y=df.iloc[0:400,10:].values.transpose()\n",
    "\n",
    "xval=scaled_df.iloc[401:583,0:10].values.transpose()\n",
    "yval=df.iloc[401:583,10:].values.transpose()\n",
    "\n",
    "print(df.shape, x.shape, y.shape, xval.shape, yval.shape)\n",
    "\n",
    "nn = neural_network(x,y)\n",
    "nn.lr = 0.03\n",
    "nn.dims = [10, 20, 1]"
   ]
  },
  {
   "cell_type": "code",
   "execution_count": 6,
   "metadata": {
    "_uuid": "2627adb814e66d84710aa996b97c0b2f9c4565be",
    "scrolled": true
   },
   "outputs": [
    {
     "name": "stdout",
     "output_type": "stream",
     "text": [
      "Cost after iteration 0: 0.784683\n",
      "Cost after iteration 500: 0.583007\n",
      "Cost after iteration 1000: 0.567620\n",
      "Cost after iteration 1500: 0.556580\n",
      "Cost after iteration 2000: 0.547358\n",
      "Cost after iteration 2500: 0.539824\n",
      "Cost after iteration 3000: 0.533818\n",
      "Cost after iteration 3500: 0.529061\n",
      "Cost after iteration 4000: 0.525365\n",
      "Cost after iteration 4500: 0.522462\n",
      "Cost after iteration 5000: 0.520081\n",
      "Cost after iteration 5500: 0.517828\n",
      "Cost after iteration 6000: 0.515920\n",
      "Cost after iteration 6500: 0.514283\n",
      "Cost after iteration 7000: 0.512789\n",
      "Cost after iteration 7500: 0.511398\n",
      "Cost after iteration 8000: 0.510082\n",
      "Cost after iteration 8500: 0.508793\n",
      "Cost after iteration 9000: 0.507579\n",
      "Cost after iteration 9500: 0.506400\n",
      "Cost after iteration 10000: 0.505237\n",
      "Cost after iteration 10500: 0.504107\n",
      "Cost after iteration 11000: 0.503018\n",
      "Cost after iteration 11500: 0.501945\n",
      "Cost after iteration 12000: 0.500884\n",
      "Cost after iteration 12500: 0.499859\n",
      "Cost after iteration 13000: 0.498823\n",
      "Cost after iteration 13500: 0.497801\n",
      "Cost after iteration 14000: 0.496810\n",
      "Cost after iteration 14500: 0.495887\n",
      "Cost after iteration 15000: 0.494979\n",
      "Cost after iteration 15500: 0.494133\n",
      "Cost after iteration 16000: 0.493325\n",
      "Cost after iteration 16500: 0.492543\n",
      "Cost after iteration 17000: 0.491793\n",
      "Cost after iteration 17500: 0.491061\n",
      "Cost after iteration 18000: 0.490321\n",
      "Cost after iteration 18500: 0.489602\n",
      "Cost after iteration 19000: 0.488881\n",
      "Cost after iteration 19500: 0.488058\n",
      "Cost after iteration 20000: 0.487343\n",
      "Cost after iteration 20500: 0.486638\n",
      "Cost after iteration 21000: 0.485960\n",
      "Cost after iteration 21500: 0.485284\n",
      "Cost after iteration 22000: 0.484616\n",
      "Cost after iteration 22500: 0.483967\n",
      "Cost after iteration 23000: 0.483313\n",
      "Cost after iteration 23500: 0.482704\n",
      "Cost after iteration 24000: 0.482111\n",
      "Cost after iteration 24500: 0.481529\n",
      "Cost after iteration 25000: 0.480956\n",
      "Cost after iteration 25500: 0.480392\n",
      "Cost after iteration 26000: 0.479841\n",
      "Cost after iteration 26500: 0.479300\n",
      "Cost after iteration 27000: 0.478536\n",
      "Cost after iteration 27500: 0.477592\n",
      "Cost after iteration 28000: 0.476907\n",
      "Cost after iteration 28500: 0.476330\n",
      "Cost after iteration 29000: 0.475737\n",
      "Cost after iteration 29500: 0.475152\n",
      "Cost after iteration 30000: 0.474587\n",
      "Cost after iteration 30500: 0.474037\n",
      "Cost after iteration 31000: 0.473447\n",
      "Cost after iteration 31500: 0.472913\n",
      "Cost after iteration 32000: 0.472381\n",
      "Cost after iteration 32500: 0.471853\n",
      "Cost after iteration 33000: 0.471344\n",
      "Cost after iteration 33500: 0.470845\n",
      "Cost after iteration 34000: 0.470359\n",
      "Cost after iteration 34500: 0.469881\n",
      "Cost after iteration 35000: 0.469413\n",
      "Cost after iteration 35500: 0.468945\n",
      "Cost after iteration 36000: 0.468480\n",
      "Cost after iteration 36500: 0.467976\n",
      "Cost after iteration 37000: 0.467424\n",
      "Cost after iteration 37500: 0.466915\n",
      "Cost after iteration 38000: 0.466424\n",
      "Cost after iteration 38500: 0.465925\n",
      "Cost after iteration 39000: 0.465452\n",
      "Cost after iteration 39500: 0.464987\n",
      "Cost after iteration 40000: 0.464521\n",
      "Cost after iteration 40500: 0.464002\n",
      "Cost after iteration 41000: 0.463529\n",
      "Cost after iteration 41500: 0.463039\n",
      "Cost after iteration 42000: 0.462552\n",
      "Cost after iteration 42500: 0.462075\n",
      "Cost after iteration 43000: 0.461586\n",
      "Cost after iteration 43500: 0.461104\n",
      "Cost after iteration 44000: 0.460643\n",
      "Cost after iteration 44500: 0.460205\n",
      "Cost after iteration 45000: 0.459766\n",
      "Cost after iteration 45500: 0.459333\n",
      "Cost after iteration 46000: 0.458884\n",
      "Cost after iteration 46500: 0.458473\n",
      "Cost after iteration 47000: 0.458072\n",
      "Cost after iteration 47500: 0.457681\n",
      "Cost after iteration 48000: 0.457298\n",
      "Cost after iteration 48500: 0.456948\n",
      "Cost after iteration 49000: 0.456597\n",
      "Cost after iteration 49500: 0.456235\n",
      "Cost after iteration 50000: 0.455882\n",
      "Cost after iteration 50500: 0.455535\n",
      "Cost after iteration 51000: 0.455198\n",
      "Cost after iteration 51500: 0.454870\n",
      "Cost after iteration 52000: 0.454544\n",
      "Cost after iteration 52500: 0.454215\n",
      "Cost after iteration 53000: 0.453912\n",
      "Cost after iteration 53500: 0.453591\n",
      "Cost after iteration 54000: 0.453267\n",
      "Cost after iteration 54500: 0.452965\n",
      "Cost after iteration 55000: 0.452680\n",
      "Cost after iteration 55500: 0.452404\n",
      "Cost after iteration 56000: 0.452130\n",
      "Cost after iteration 56500: 0.451855\n",
      "Cost after iteration 57000: 0.451567\n",
      "Cost after iteration 57500: 0.451289\n",
      "Cost after iteration 58000: 0.451017\n",
      "Cost after iteration 58500: 0.450740\n",
      "Cost after iteration 59000: 0.450478\n",
      "Cost after iteration 59500: 0.450174\n",
      "Cost after iteration 60000: 0.449872\n",
      "Cost after iteration 60500: 0.449537\n",
      "Cost after iteration 61000: 0.449187\n",
      "Cost after iteration 61500: 0.448852\n",
      "Cost after iteration 62000: 0.448529\n",
      "Cost after iteration 62500: 0.448211\n",
      "Cost after iteration 63000: 0.447908\n",
      "Cost after iteration 63500: 0.447582\n",
      "Cost after iteration 64000: 0.447210\n",
      "Cost after iteration 64500: 0.446943\n",
      "Cost after iteration 65000: 0.446602\n",
      "Cost after iteration 65500: 0.446317\n",
      "Cost after iteration 66000: 0.446030\n",
      "Cost after iteration 66500: 0.445756\n",
      "Cost after iteration 67000: 0.445517\n",
      "Cost after iteration 67500: 0.445285\n",
      "Cost after iteration 68000: 0.445063\n",
      "Cost after iteration 68500: 0.444844\n",
      "Cost after iteration 69000: 0.444626\n",
      "Cost after iteration 69500: 0.444409\n",
      "Cost after iteration 70000: 0.444194\n",
      "Cost after iteration 70500: 0.443986\n",
      "Cost after iteration 71000: 0.443785\n",
      "Cost after iteration 71500: 0.443588\n",
      "Cost after iteration 72000: 0.443395\n",
      "Cost after iteration 72500: 0.443210\n",
      "Cost after iteration 73000: 0.443022\n",
      "Cost after iteration 73500: 0.442838\n",
      "Cost after iteration 74000: 0.442593\n",
      "Cost after iteration 74500: 0.442380\n"
     ]
    },
    {
     "data": {
      "image/png": "[encoded data removed]",
      "text/plain": [
       "<Figure size 432x288 with 1 Axes>"
      ]
     },
     "metadata": {},
     "output_type": "display_data"
    }
   ],
   "source": [
    "nn.train(x, y, iter = 75000)"
   ]
  },
  {
   "cell_type": "code",
   "execution_count": 7,
   "metadata": {
    "_uuid": "32b18cc26a8ffe50bfd1e4cbd84ca2bc485b4075",
    "scrolled": true
   },
   "outputs": [
    {
     "name": "stdout",
     "output_type": "stream",
     "text": [
      "Acc: 0.7675\n",
      "Acc: 0.7142857142857142\n"
     ]
    }
   ],
   "source": [
    "pred_train = nn.pred(x, y)\n",
    "pred_test = nn.pred(xval, yval)"
   ]
  },
  {
   "cell_type": "markdown",
   "metadata": {},
   "source": [
    "##### Threshold decides a cut off above which it is Benign and below which it is Malign"
   ]
  },
  {
   "cell_type": "code",
   "execution_count": 8,
   "metadata": {
    "_uuid": "5a1b5cd682f83a36783de3f66e32008b97257ce8"
   },
   "outputs": [
    {
     "name": "stdout",
     "output_type": "stream",
     "text": [
      "Acc: 0.7675\n"
     ]
    },
    {
     "data": {
      "image/png": "[encoded data removed]",
      "text/plain": [
       "<Figure size 432x288 with 2 Axes>"
      ]
     },
     "metadata": {},
     "output_type": "display_data"
    },
    {
     "name": "stdout",
     "output_type": "stream",
     "text": [
      "Acc: 0.7142857142857142\n"
     ]
    },
    {
     "data": {
      "image/png": "[encoded data removed]",
      "text/plain": [
       "<Figure size 432x288 with 2 Axes>"
      ]
     },
     "metadata": {},
     "output_type": "display_data"
    }
   ],
   "source": [
    "nn.threshold=0.5\n",
    "\n",
    "nn.X,nn.Y=x, y \n",
    "target=np.around(np.squeeze(y), decimals=0).astype(np.int)\n",
    "predicted=np.around(np.squeeze(nn.pred(x,y)), decimals=0).astype(np.int)\n",
    "plotCf(target,predicted,'Training Set')\n",
    "\n",
    "nn.X,nn.Y=xval, yval \n",
    "target=np.around(np.squeeze(yval), decimals=0).astype(np.int)\n",
    "predicted=np.around(np.squeeze(nn.pred(xval,yval)), decimals=0).astype(np.int)\n",
    "plotCf(target,predicted,'Test Set')"
   ]
  },
  {
   "cell_type": "code",
   "execution_count": 9,
   "metadata": {
    "_uuid": "fe4cd4ca7ed980adf4c9a3c53bf923f19615ac92"
   },
   "outputs": [
    {
     "name": "stdout",
     "output_type": "stream",
     "text": [
      "\n",
      "Actual [[1 1 0 1 1 0 1 1 1 1 0 1 0 0 1 1 0 1 1 1 0 1 0 1 1 0 1 0 1 1 0 1 0 0 0 1\n",
      "  1 1 1 1 1 1 1 0 0 1 1 1 1 1]]\n",
      "\n",
      "Predicted [[1 1 0 0 1 1 1 1 1 1 1 1 1 1 1 1 1 1 1 1 0 1 1 1 1 1 1 1 1 1 1 1 1 1 1 0\n",
      "  0 1 0 0 1 1 0 1 0 1 1 1 0 1]] \n",
      "\n"
     ]
    }
   ],
   "source": [
    "nn.X,nn.Y=xval, yval \n",
    "yvalh, loss = nn.forward()\n",
    "print(\"\\nActual\",np.around(yval[:,0:50,], decimals=0).astype(np.int))       \n",
    "print(\"\\nPredicted\",np.around(yvalh[:,0:50,], decimals=0).astype(np.int),\"\\n\")         "
   ]
  },
  {
   "cell_type": "code",
   "execution_count": null,
   "metadata": {},
   "outputs": [],
   "source": []
  }
 ],
 "metadata": {
  "coursera": {
   "course_slug": "neural-networks-deep-learning",
   "graded_item_id": "TSPse",
   "launcher_item_id": "24mxX"
  },
  "kernelspec": {
   "display_name": "Python 3",
   "language": "python",
   "name": "python3"
  },
  "language_info": {
   "codemirror_mode": {
    "name": "ipython",
    "version": 3
   },
   "file_extension": ".py",
   "mimetype": "text/x-python",
   "name": "python",
   "nbconvert_exporter": "python",
   "pygments_lexer": "ipython3",
   "version": "3.6.5"
  }
 },
 "nbformat": 4,
 "nbformat_minor": 1
}
